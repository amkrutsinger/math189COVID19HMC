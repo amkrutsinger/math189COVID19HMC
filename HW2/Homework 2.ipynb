{
 "cells": [
  {
   "cell_type": "markdown",
   "metadata": {},
   "source": [
    "# Homework 2: Topic Modeling of COVID-19 Tweets Over Time"
   ]
  },
  {
   "cell_type": "markdown",
   "metadata": {},
   "source": [
    "In this homework, you will be using topic modeling to identify topics in tweets about COVID-19 collected from February through April. You will use PCA to visualize the results of your topic modeling as well as investigate the semantic meaning of the topics you have found and the prevalence of these topics over time. To complete this homework assignment, run each block of code, filling in code as needed. "
   ]
  },
  {
   "cell_type": "code",
   "execution_count": 1,
   "metadata": {},
   "outputs": [],
   "source": [
    "import numpy as np\n",
    "import pandas as pd\n",
    "import matplotlib.pyplot as plt"
   ]
  },
  {
   "cell_type": "markdown",
   "metadata": {},
   "source": [
    "## Loading Tweet Data"
   ]
  },
  {
   "cell_type": "code",
   "execution_count": 2,
   "metadata": {
    "scrolled": true
   },
   "outputs": [],
   "source": [
    "tweets = pd.read_csv('april_data.csv')"
   ]
  },
  {
   "cell_type": "code",
   "execution_count": 3,
   "metadata": {},
   "outputs": [
    {
     "data": {
      "text/html": [
       "<div>\n",
       "<style scoped>\n",
       "    .dataframe tbody tr th:only-of-type {\n",
       "        vertical-align: middle;\n",
       "    }\n",
       "\n",
       "    .dataframe tbody tr th {\n",
       "        vertical-align: top;\n",
       "    }\n",
       "\n",
       "    .dataframe thead th {\n",
       "        text-align: right;\n",
       "    }\n",
       "</style>\n",
       "<table border=\"1\" class=\"dataframe\">\n",
       "  <thead>\n",
       "    <tr style=\"text-align: right;\">\n",
       "      <th></th>\n",
       "      <th>Unnamed: 0</th>\n",
       "      <th>date</th>\n",
       "      <th>text</th>\n",
       "    </tr>\n",
       "  </thead>\n",
       "  <tbody>\n",
       "    <tr>\n",
       "      <th>0</th>\n",
       "      <td>0</td>\n",
       "      <td>2020-04-05 23:59:34</td>\n",
       "      <td>PROMISING NEWS! We asked a local doctor about ...</td>\n",
       "    </tr>\n",
       "    <tr>\n",
       "      <th>1</th>\n",
       "      <td>1</td>\n",
       "      <td>2020-04-05 23:59:11</td>\n",
       "      <td>ToP 10 #LightsOverLockdown Videos That could A...</td>\n",
       "    </tr>\n",
       "    <tr>\n",
       "      <th>2</th>\n",
       "      <td>2</td>\n",
       "      <td>2020-04-05 23:59:01</td>\n",
       "      <td>#MakeChinaPay China owes us all. #Covid_19 #Ch...</td>\n",
       "    </tr>\n",
       "    <tr>\n",
       "      <th>3</th>\n",
       "      <td>3</td>\n",
       "      <td>2020-04-05 23:58:34</td>\n",
       "      <td>#Hydroxycloroquine shows promising results in ...</td>\n",
       "    </tr>\n",
       "    <tr>\n",
       "      <th>4</th>\n",
       "      <td>4</td>\n",
       "      <td>2020-04-05 23:58:29</td>\n",
       "      <td>Yes and their numbers are going down!</td>\n",
       "    </tr>\n",
       "  </tbody>\n",
       "</table>\n",
       "</div>"
      ],
      "text/plain": [
       "   Unnamed: 0                 date  \\\n",
       "0           0  2020-04-05 23:59:34   \n",
       "1           1  2020-04-05 23:59:11   \n",
       "2           2  2020-04-05 23:59:01   \n",
       "3           3  2020-04-05 23:58:34   \n",
       "4           4  2020-04-05 23:58:29   \n",
       "\n",
       "                                                text  \n",
       "0  PROMISING NEWS! We asked a local doctor about ...  \n",
       "1  ToP 10 #LightsOverLockdown Videos That could A...  \n",
       "2  #MakeChinaPay China owes us all. #Covid_19 #Ch...  \n",
       "3  #Hydroxycloroquine shows promising results in ...  \n",
       "4              Yes and their numbers are going down!  "
      ]
     },
     "execution_count": 3,
     "metadata": {},
     "output_type": "execute_result"
    }
   ],
   "source": [
    "tweets.head()"
   ]
  },
  {
   "cell_type": "markdown",
   "metadata": {},
   "source": [
    "# Topic Modeling"
   ]
  },
  {
   "cell_type": "markdown",
   "metadata": {},
   "source": [
    "## Building Our Model"
   ]
  },
  {
   "cell_type": "markdown",
   "metadata": {},
   "source": [
    "To do our topic modeling, we will be using Latent Dirichlet Allocation to do topic modeling, which you learned about in lecture. Don't worry, we will not be implementing Latent Dirichlet Allocation, instead we will be using the tools already available to us (sklearn) in order to do topic modeling.  For a refresher on this method, you can check out [this](https://towardsdatascience.com/light-on-math-machine-learning-intuitive-guide-to-latent-dirichlet-allocation-437c81220158) blog post. To start we will build up some understanding of how to use sklearn's LDA functionality. "
   ]
  },
  {
   "cell_type": "code",
   "execution_count": 4,
   "metadata": {},
   "outputs": [],
   "source": [
    "from sklearn.feature_extraction.text import CountVectorizer\n",
    "from sklearn.decomposition import LatentDirichletAllocation\n",
    "from sklearn.feature_extraction import text"
   ]
  },
  {
   "cell_type": "markdown",
   "metadata": {},
   "source": [
    "We will start out by adding to our stop words. These are words that may be repeated often in the tweets, but do not add any topic information. These are words like 'the', 'a', 'that', 'almost', 'every', etc. You can check out the existing stop words using text.ENGLISH_STOP_WORDS if you want to know what's included. What you need to do is add words that are likely not in the existing stop word list that will not add any information to our topics. Because all the tweets are already about COVID-19, words used to identify the virus are likely not helpful, nor are things like 'https' and 'com' from links. Think about what words might come up a lot but do not differentiate tweets and add them to the stop list. After you run the topic modeling and see the words in the topics, continue to add unimportant words to the stop list to refine your topics (we added about 15 additional stop words but you can add as many as you think are appropriate). "
   ]
  },
  {
   "cell_type": "markdown",
   "metadata": {},
   "source": [
    "## TASK 1: add stop words"
   ]
  },
  {
   "cell_type": "code",
   "execution_count": 7,
   "metadata": {},
   "outputs": [],
   "source": [
    "x = ['covid', 'corona', 'coronavirus', 'covid19', 'virus', '19', 'com', 'https', 'www', 'pandemic', 'covid_19', 'people',\n",
    "    'http', 'news', 'going', 'stop', 'says', 'like', 'doing', 'just', 'end', '000', 'did', 'really', '2020']\n",
    "\n",
    "for word in x:\n",
    "    if word in text.ENGLISH_STOP_WORDS:\n",
    "        print(\"duplicate \" + word)\n",
    "\n",
    "my_stops = text.ENGLISH_STOP_WORDS.union( x )\n"
   ]
  },
  {
   "cell_type": "markdown",
   "metadata": {},
   "source": [
    "Next, we will vectorize the tweets. This makes it so each tweet is represented by an w-dimensional vector, where w is the total number number of unique words in all the tweets (not including the stop words). "
   ]
  },
  {
   "cell_type": "code",
   "execution_count": 8,
   "metadata": {},
   "outputs": [],
   "source": [
    "vectorizer = CountVectorizer(min_df=10, stop_words=my_stops)\n",
    "counts = vectorizer.fit_transform(tweets.text)"
   ]
  },
  {
   "cell_type": "markdown",
   "metadata": {},
   "source": [
    "Now we will run Latent Dirichlet Allocation to find our topics. Check out the [documentation](https://scikit-learn.org/stable/modules/generated/sklearn.decomposition.LatentDirichletAllocation.html) in order to understand all of the parameters. "
   ]
  },
  {
   "cell_type": "code",
   "execution_count": 9,
   "metadata": {},
   "outputs": [],
   "source": [
    "as_topics = LatentDirichletAllocation(n_components=8, random_state=0, n_jobs=6).fit(counts)"
   ]
  },
  {
   "cell_type": "code",
   "execution_count": 10,
   "metadata": {},
   "outputs": [],
   "source": [
    "def print_topics(topics,vectorizer):\n",
    "    \"\"\"\n",
    "    Prints top 12 most important words for each topic in descending importance\n",
    "    \"\"\"\n",
    "    topic_dists = (topics.components_.T / topics.components_.sum(axis=1)).T\n",
    "    for comp in range(len(topic_dists)):\n",
    "        top_i = np.argsort(topic_dists[comp])[-12:][::-1]\n",
    "        print()\n",
    "        print([key for key, value in vectorizer.vocabulary_.items() if value in top_i])"
   ]
  },
  {
   "cell_type": "code",
   "execution_count": 11,
   "metadata": {},
   "outputs": [
    {
     "name": "stdout",
     "output_type": "stream",
     "text": [
      "\n",
      "['world', 'crisis', 'government', 'support', '04', 'need', 'food', 'death', 'help', 'relief', 'ik_saviourofnation', 'team_mastanda']\n",
      "\n",
      "['world', 'use', 'social', 'distancing', 'new', 'york', 'health', 'amp', 'god', '5g', 'man', 'india']\n",
      "\n",
      "['trump', 'want', 'shit', 'pic', 'twitter', 'got', 'lives', 'save', 'amp', 'fuck', 'safe', 'country']\n",
      "\n",
      "['time', 'state', 'read', 'don', 'dr', 'fauci', 'person', 'vaccine', 'gates', 'today', 'know', 'long']\n",
      "\n",
      "['president', 'trump', 'hospital', 'dead', 'cases', 'lockdown', 'fight', 'chinese', 'day', 'days', 'april', 'today']\n",
      "\n",
      "['china', 'deaths', 'tiger', 'bronx', 'zoo', 'tests', 'positive', 'tested', 'old', 'breaking', 'confirmed', 'death']\n",
      "\n",
      "['trump', 'free', 'hospital', 'doctors', 'hope', 'away', 'let', 'great', 'amp', 'fight', 'family', 'll']\n",
      "\n",
      "['hydroxychloroquine', 'drug', 'trump', 'patients', 'home', 'said', 'americans', 'think', 'health', 'stay', 'treatment', 'masks']\n"
     ]
    }
   ],
   "source": [
    "print_topics(as_topics, vectorizer)"
   ]
  },
  {
   "cell_type": "markdown",
   "metadata": {},
   "source": [
    "## Evaluating our Model"
   ]
  },
  {
   "cell_type": "markdown",
   "metadata": {},
   "source": [
    "\n"
   ]
  },
  {
   "cell_type": "markdown",
   "metadata": {},
   "source": [
    "This is an unsupervised learning technique meant to help us find structure in our data. The data will always be divided into topics, however that does not mean that the topics will have meaning. This makes the qualitative part of topic modeling very important because you need to be able to look at the topics generated above and understand whether the model seems to have captured true structure or just noise. Now we can think about ways to visualize what we have just created. \n",
    "\n",
    "One way we can gain intuition about our model is by checking how strongly it is classifying tweets into one category or another. In other words, how sure the model is of the topic of a tweet. When predicting the topic for a tweet, the trained model returns a distribution over the possible topics, which is referred to as that tweet in _topic space_. For example, if we had three topics it would return a vector of length 3 with the 3 values summing to 1. The topic represented by the highest probability is the principal topic of that tweet. The higher that maximum value is compared to the other probabilities, the stronger the association of that tweet to its principal topic. If tweets tend to have strong principal topics, then there is a lot of structure in the topic space of the tweets and the topics are more likely to be useful.\n",
    "\n",
    "By measuring this charactaristic of our model, we are making sure our model identified more general structure in the tweets and didn't train strictly on noise. While this doesn't mean that the topics have __meaning__, it is a check that there is clustering going on. To visualize whether this clustering is happening we can plot our points and color them based on their given topic. However, our data is more than 3-dimensions, making it difficult to visualize. That's where dimensionality reduction techniques come in. There are many techniques out there, but we are going to focus on PCA as it is ubiquitous, easy to understand, and very useful. \n",
    "\n",
    "If you want to explore other demonsionality reduction tools, [tSNE](https://scikit-learn.org/stable/modules/generated/sklearn.manifold.TSNE.html) is a widely used one as well. "
   ]
  },
  {
   "cell_type": "markdown",
   "metadata": {},
   "source": [
    "## TASK 2: Implement PCA\n",
    "\n",
    "Before we perform PCA to visualize our topic modeling, check out [this](https://datascienceplus.com/understanding-the-covariance-matrix/) blog post on covariance matrices and [this](https://towardsdatascience.com/a-one-stop-shop-for-principal-component-analysis-5582fb7e0a9c) blog post on PCA if you are unfamiliar with either topic. To really solidify your understanding of PCA, you are going to __implement it yourself__.\n",
    "\n",
    "To do this, please fill in the provided helper functions and PCA wrapper function. You __may not__ use any built in PCA functions but you can use anything else. The following example depends on your implementation of this code so make sure to implement it before running that. \n",
    "\n"
   ]
  },
  {
   "cell_type": "code",
   "execution_count": null,
   "metadata": {
    "collapsed": true
   },
   "outputs": [],
   "source": [
    "def get_covariance(data):\n",
    "    \"\"\"\n",
    "    Given a matrix of data, returns covariance matrix\n",
    "    \n",
    "    Hint: Make sure to standardize your data and center it around zero. \n",
    "    Try to do this in a vectorized manner, our solution was less than 5 lines. \n",
    "    \"\"\"\n",
    "    \n",
    "    # Your code here\n",
    "    # Center the matrix at the origin and standardize?\n",
    "    X = (X - np.mean(X, 0)) / np.std(X)\n",
    "    X_T = X.transpose()\n",
    "    # C = (1/(n-1))*sum{1}{n} of (Xi-Xmean)(Xi-Xmean)T\n",
    "    \n",
    "    \n",
    "    \n",
    "    return covariance"
   ]
  },
  {
   "cell_type": "code",
   "execution_count": null,
   "metadata": {
    "collapsed": true
   },
   "outputs": [],
   "source": [
    "def pca(data):\n",
    "    \"\"\"\n",
    "    Given a matrix of data, returns sorted eigenvalues and eigenvectors of covariance matrix\n",
    "    \n",
    "    Hint: This function should use your get_covariance() function and you might find np.linalg.eig() \n",
    "            and np.argsort() helpful\n",
    "    \n",
    "    \"\"\"\n",
    "    \n",
    "    # Your code here\n",
    "    \n",
    "    \n",
    "    \n",
    "    \n",
    "    return eigen_vals, eigen_vectors"
   ]
  },
  {
   "cell_type": "code",
   "execution_count": null,
   "metadata": {
    "collapsed": true
   },
   "outputs": [],
   "source": [
    "def pca_transform(data, num_dims = 2):\n",
    "    \"\"\"\n",
    "    Given a matrix of data, returns data projected onto num_dims principal components (use your pca() function)\n",
    "\n",
    "    \"\"\"\n",
    "    # Your code here\n",
    "    \n",
    "    \n",
    "    \n",
    "    \n",
    "    \n",
    "    return transformed_data"
   ]
  },
  {
   "cell_type": "code",
   "execution_count": null,
   "metadata": {
    "collapsed": true
   },
   "outputs": [],
   "source": [
    "def plot_pca(data, graph_title='Transformed Data'):\n",
    "    \"\"\"\n",
    "    Given a matrix of data, runs PCA and plots transformed data onto first 2 principal components\n",
    "    \n",
    "    \"\"\"\n",
    "    labels = np.argmax(data, axis=1)\n",
    "    reduced_data = pca_transform(data)\n",
    "\n",
    "    scatter = plt.scatter(reduced_data[:,0], reduced_data[:,1], c = labels)\n",
    "    plt.legend(*scatter.legend_elements())\n",
    "    plt.title(graph_title)\n",
    "    plt.show()"
   ]
  },
  {
   "cell_type": "markdown",
   "metadata": {},
   "source": [
    "## Using Principal Components Analysis to visualize structure\n",
    "\n",
    "Now that we have our PCA up and running, we can gain some intuition on what our results might be showing us. From our visualization, we want to be able to determine if tweets are grouped tightly around a series of distinct topics (structured) or if tweets are not clearly defined by any one topic (unstructured).\n",
    "\n",
    "When we do LDA topic modeling, we are assuming that tweets are the results of samples from an underlying dirichlet distribution. Therefore we can make data that \"looks\" structured or unstructured by sampling from a corresponding Dirichlet distribution. In the structured data visualization we are sampling from a distribution with a high likelihood of a (1.0,0,0,...,0) distribution, (or some permutation of that result), and in the unstructured data visualization we are sampling from a distribution with a high probability of a uniform vector.\n",
    "\n",
    "__NOTE:__ If you are getting an error with the plotting function, try updating matplotlib using the command ```pip install --upgrade matplotlib``` in your command line. Restart your notebook before trying again. "
   ]
  },
  {
   "cell_type": "code",
   "execution_count": null,
   "metadata": {},
   "outputs": [],
   "source": [
    "structured_data = np.random.dirichlet(np.ones(5)*.05, 800)\n",
    "unstructured_data = np.random.dirichlet(np.ones(5)*100, 800)\n",
    "\n",
    "plot_pca(structured_data, graph_title='Structured Data')\n",
    "plot_pca(unstructured_data, graph_title='Unstructured Data')\n"
   ]
  },
  {
   "cell_type": "markdown",
   "metadata": {},
   "source": [
    "We can see from the resulting graphs that PCA does a pretty good job revealing whether there is a lot of structure or if there is very little structure. Taking this information, we can compare our results from twitter to these graphs to get a better idea of the structure of our results."
   ]
  },
  {
   "cell_type": "markdown",
   "metadata": {},
   "source": [
    "## TASK 3: Visualize Results of LDA with PCA\n",
    "\n",
    "Now using the [documentation](https://scikit-learn.org/stable/modules/generated/sklearn.decomposition.LatentDirichletAllocation.html) for sklearn's LDA and the given ```plot_pca()``` function, visualize the structure of the topics of the tweets. \n",
    "\n",
    "Hint: You need to ```transform``` your vectorized tweets into topic space."
   ]
  },
  {
   "cell_type": "code",
   "execution_count": null,
   "metadata": {
    "collapsed": true
   },
   "outputs": [],
   "source": [
    "# Your code here\n",
    "\n",
    "\n",
    "\n",
    "\n",
    "\n",
    "\n",
    "\n",
    "\n",
    "\n",
    "\n",
    "\n",
    "\n",
    "\n",
    "\n"
   ]
  },
  {
   "cell_type": "markdown",
   "metadata": {},
   "source": [
    "# Tweets Over Time\n",
    "\n",
    "Now that we have an understanding of LDA, how the code works, and a way to evaluate it, we can look into ways to measure change in topics over time. We will look at tweets from February, March and April. These tweets were collected over a 6 day interval about 25 days apart. \n",
    "\n",
    "To observe change over time, you will perform LDA on a data set with all three months of tweets. Then, for each topic, we can look at the frequency of tweets from each month to see if some topics were more popular at different points in time. "
   ]
  },
  {
   "cell_type": "code",
   "execution_count": null,
   "metadata": {
    "collapsed": true
   },
   "outputs": [],
   "source": [
    "# Loading tweets\n",
    "feb_tweets = pd.read_csv('feb_data.csv')\n",
    "march_tweets = pd.read_csv('march_data.csv')\n",
    "april_tweets = pd.read_csv('april_data.csv')\n",
    "\n",
    "all_tweets = pd.concat([feb_tweets, march_tweets, april_tweets]).reset_index(drop=True)"
   ]
  },
  {
   "cell_type": "markdown",
   "metadata": {},
   "source": [
    "## TASK 4: Perform LDA on  All Tweets\n",
    "\n",
    "The variables that you will need after performing LDA for our visualization are:\n",
    "\n",
    "```all_vectorizer``` - the vectorizer you create in order to get the counts for all the tweets\n",
    "\n",
    "```all_counts``` - the ndarray of vectorized tweets\n",
    "\n",
    "```all_as_topics``` - the trained LDA model. We used 20 topics but you can adjust the number as you see fit. \n",
    "\n",
    "Don't forget to create a new vectorizer and that you can use ```print_topics(as_topic, vectorizer)``` to print the topics\n"
   ]
  },
  {
   "cell_type": "code",
   "execution_count": null,
   "metadata": {
    "collapsed": true
   },
   "outputs": [],
   "source": [
    "# Your code here\n",
    "\n",
    "\n",
    "\n",
    "\n",
    "\n",
    "\n",
    "\n",
    "\n",
    "\n",
    "\n",
    "\n",
    "\n"
   ]
  },
  {
   "cell_type": "markdown",
   "metadata": {},
   "source": [
    "Now we can visualize how topics have changed over time."
   ]
  },
  {
   "cell_type": "code",
   "execution_count": null,
   "metadata": {},
   "outputs": [],
   "source": [
    "# Classify tweets into topics\n",
    "tweet_dists = all_as_topics.transform(all_counts)\n",
    "tweet_labels = np.argmax(tweet_dists, axis=1)\n",
    "all_tweets = all_tweets.assign(tweet_labels= tweet_labels)\n",
    "\n",
    "# Label tweets by month\n",
    "months = pd.Series([\"February\"] * feb_tweets.shape[0] + ['March'] * march_tweets.shape[0] + ['April'] * april_tweets.shape[0])\n",
    "all_tweets = all_tweets.assign(month=months)\n",
    "\n",
    "# Get monthly counts for each topic\n",
    "topic_counts = all_tweets.groupby(['tweet_labels','month']).count()\n",
    "topic_counts.drop(['date','text'], axis=1, inplace=True)\n",
    "topic_counts.columns =['monthly_count']\n",
    "\n",
    "unstacked_topics = topic_counts.unstack()\n",
    "unstacked_topics = unstacked_topics.monthly_count\n",
    "unstacked_topics = unstacked_topics.reindex(columns=['February', 'March', 'April'])\n",
    "\n",
    "unstacked_topics.head()"
   ]
  },
  {
   "cell_type": "code",
   "execution_count": null,
   "metadata": {},
   "outputs": [],
   "source": [
    "# Plot monthly counts for each topic\n",
    "unstacked_topics.plot.bar(figsize=(15,10))\n",
    "plt.title('Monthly Tweet Counts by Topic')\n",
    "plt.xlabel('Topic')\n",
    "plt.ylabel('Tweet Count')\n",
    "plt.show()"
   ]
  },
  {
   "cell_type": "markdown",
   "metadata": {},
   "source": [
    "## TASK 5: Discuss Results\n",
    "\n",
    "Now it is time to do qualitative analysis of your topic modeling. You final task is to look at the graph above and choose a topic with a majority from each month and a topic that seems to be present in all months (4 total topics) and assign a semantic meaning to each based on the words associated with that topic (when you print the topics using print_topics() they are printed in the same order as the graph). For example if the words were ['test', 'positive', 'negative'...] you could say 'Testing for COVID-19'. Comment on whether the results on the bar graph make sense after assigning the semantic meaning to the topic. "
   ]
  },
  {
   "cell_type": "code",
   "execution_count": null,
   "metadata": {
    "collapsed": true
   },
   "outputs": [],
   "source": []
  }
 ],
 "metadata": {
  "kernelspec": {
   "display_name": "Python 3",
   "language": "python",
   "name": "python3"
  },
  "language_info": {
   "codemirror_mode": {
    "name": "ipython",
    "version": 3
   },
   "file_extension": ".py",
   "mimetype": "text/x-python",
   "name": "python",
   "nbconvert_exporter": "python",
   "pygments_lexer": "ipython3",
   "version": "3.7.7"
  }
 },
 "nbformat": 4,
 "nbformat_minor": 2
}
